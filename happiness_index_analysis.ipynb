{
 "cells": [
  {
   "cell_type": "markdown",
   "metadata": {},
   "source": [
    "# Setup"
   ]
  },
  {
   "cell_type": "code",
   "execution_count": null,
   "metadata": {},
   "outputs": [],
   "source": [
    "%reload_ext nb_black\n",
    "import pandas as pd\n",
    "import numpy as np\n",
    "from scipy import stats\n",
    "import statsmodels.api as sm\n",
    "from statsmodels.formula.api import ols\n",
    "from statsmodels.stats.multicomp import pairwise_tukeyhsd\n",
    "from statsmodels.graphics.gofplots import qqplot\n",
    "import seaborn as sns\n",
    "import matplotlib.pyplot as plt\n",
    "\n",
    "%matplotlib inline"
   ]
  },
  {
   "cell_type": "code",
   "execution_count": null,
   "metadata": {},
   "outputs": [],
   "source": [
    "# Function for determining Confidence Intervals\n",
    "def ci_95(x1, x2):\n",
    "    signal = x1.mean() - x2.mean()\n",
    "    noise = np.sqrt(x1.var() / x1.size + x2.var() / x2.size)\n",
    "\n",
    "    ci_lo = signal - 1.96 * noise\n",
    "    ci_hi = signal + 1.96 * noise\n",
    "\n",
    "    return ci_lo, ci_hi"
   ]
  },
  {
   "cell_type": "markdown",
   "metadata": {},
   "source": [
    "# Exploring the data"
   ]
  },
  {
   "cell_type": "code",
   "execution_count": null,
   "metadata": {},
   "outputs": [],
   "source": [
    "# Load in 2019 DataFrame\n",
    "url = \"https://raw.githubusercontent.com/WoodyBurns44/Happiness_index_Analysis/main/2019.csv\"\n",
    "df_2019 = pd.read_csv(url)"
   ]
  },
  {
   "cell_type": "code",
   "execution_count": null,
   "metadata": {
    "scrolled": true
   },
   "outputs": [],
   "source": [
    "df_2019.head()"
   ]
  },
  {
   "cell_type": "code",
   "execution_count": null,
   "metadata": {},
   "outputs": [],
   "source": [
    "# See what data we're working with\n",
    "df_2019.info()"
   ]
  },
  {
   "cell_type": "code",
   "execution_count": null,
   "metadata": {},
   "outputs": [],
   "source": [
    "df_2019.shape"
   ]
  },
  {
   "cell_type": "code",
   "execution_count": null,
   "metadata": {},
   "outputs": [],
   "source": [
    "df_2019.index"
   ]
  },
  {
   "cell_type": "code",
   "execution_count": null,
   "metadata": {},
   "outputs": [],
   "source": [
    "df_2019.columns"
   ]
  },
  {
   "cell_type": "code",
   "execution_count": null,
   "metadata": {},
   "outputs": [],
   "source": [
    "df_2019.describe()"
   ]
  },
  {
   "cell_type": "markdown",
   "metadata": {},
   "source": [
    "# Is there a correlation between the GDP per capita in 2019 for the happiest and less happy countries? If so, how strong is the correlation? "
   ]
  },
  {
   "cell_type": "markdown",
   "metadata": {},
   "source": [
    "## Divide the dataset into two groups: happy countries and less happy Countries based on the median happiness score. "
   ]
  },
  {
   "cell_type": "code",
   "execution_count": null,
   "metadata": {},
   "outputs": [],
   "source": [
    "#Split by median to get as close to equal sized data as possible\n",
    "median = df_2019[\"Score\"].median()"
   ]
  },
  {
   "cell_type": "code",
   "execution_count": null,
   "metadata": {},
   "outputs": [],
   "source": [
    "# Select the \"Happiest\" countries, above the median\n",
    "happy_2019 = df_2019[df_2019[\"Score\"] > median]"
   ]
  },
  {
   "cell_type": "code",
   "execution_count": null,
   "metadata": {},
   "outputs": [],
   "source": [
    "happy_2019.shape"
   ]
  },
  {
   "cell_type": "code",
   "execution_count": null,
   "metadata": {},
   "outputs": [],
   "source": [
    "#Select the less happy countries, below the median\n",
    "unhappy_2019 = df_2019[df_2019[\"Score\"] <= median]"
   ]
  },
  {
   "cell_type": "code",
   "execution_count": null,
   "metadata": {},
   "outputs": [],
   "source": [
    "unhappy_2019.shape"
   ]
  },
  {
   "cell_type": "markdown",
   "metadata": {},
   "source": [
    "In order to determine which test will most accurately find whether there is a correlation or not, I must look into the distribution of the data. First, I will test both variables for normality. "
   ]
  },
  {
   "cell_type": "markdown",
   "metadata": {},
   "source": [
    "## Test for normality "
   ]
  },
  {
   "cell_type": "code",
   "execution_count": null,
   "metadata": {},
   "outputs": [],
   "source": [
    "#Find the mean and medians of the data sets to see if they tell us anything abou ttheir normality\n",
    "happy_2019[\"GDP per capita\"].mean()"
   ]
  },
  {
   "cell_type": "code",
   "execution_count": null,
   "metadata": {},
   "outputs": [],
   "source": [
    "happy_2019[\"GDP per capita\"].median()"
   ]
  },
  {
   "cell_type": "code",
   "execution_count": null,
   "metadata": {},
   "outputs": [],
   "source": [
    "unhappy_2019[\"GDP per capita\"].mean()"
   ]
  },
  {
   "cell_type": "code",
   "execution_count": null,
   "metadata": {},
   "outputs": [],
   "source": [
    "unhappy_2019[\"GDP per capita\"].median()\n",
    "# The means and medians of both samples are fairly close to eachother, which is an indication\n",
    "# that the data might be normally distributed. "
   ]
  },
  {
   "cell_type": "code",
   "execution_count": null,
   "metadata": {},
   "outputs": [],
   "source": [
    "# Check the Kurtosis and Skewness\n",
    "stats.describe(unhappy_2019[\"GDP per capita\"])"
   ]
  },
  {
   "cell_type": "code",
   "execution_count": null,
   "metadata": {},
   "outputs": [],
   "source": [
    "stats.describe(happy_2019[\"GDP per capita\"])"
   ]
  },
  {
   "cell_type": "code",
   "execution_count": null,
   "metadata": {},
   "outputs": [],
   "source": [
    "# Histogram of the GDP per capita of happy countries, with a black line showing the mean\n",
    "# and an orange line showing the median.\n",
    "happy_2019[\"GDP per capita\"].hist()\n",
    "plt.axvline(x=happy_2019[\"GDP per capita\"].median(), c=\"orange\", linestyle=\"solid\")\n",
    "plt.axvline(x=happy_2019[\"GDP per capita\"].mean(), c=\"black\", linestyle=\"solid\")\n",
    "plt.show()"
   ]
  },
  {
   "cell_type": "code",
   "execution_count": null,
   "metadata": {
    "scrolled": true
   },
   "outputs": [],
   "source": [
    "# Histogram of the GDP per capita of less happy countries, with a black line showing the mean\n",
    "# and an orange line showing the median.\n",
    "unhappy_2019[\"GDP per capita\"].hist()\n",
    "plt.axvline(x=unhappy_2019[\"GDP per capita\"].median(), c=\"orange\", linestyle=\"solid\")\n",
    "plt.axvline(x=unhappy_2019[\"GDP per capita\"].mean(), c=\"black\", linestyle=\"solid\")\n",
    "plt.show()"
   ]
  },
  {
   "cell_type": "code",
   "execution_count": null,
   "metadata": {},
   "outputs": [],
   "source": [
    "## QQ plot to visualize happy countries GDP per capita relation to normal distribution\n",
    "qqplot(happy_2019[\"GDP per capita\"], line=\"s\")\n",
    "plt.show()"
   ]
  },
  {
   "cell_type": "code",
   "execution_count": null,
   "metadata": {},
   "outputs": [],
   "source": [
    "## QQ plot to visualize less happy countries Happiness scores relation to normal distribution\n",
    "qqplot(unhappy_2019[\"GDP per capita\"], line=\"s\")\n",
    "plt.show()"
   ]
  },
  {
   "cell_type": "code",
   "execution_count": null,
   "metadata": {},
   "outputs": [],
   "source": [
    "# Check normality with a Violin plot\n",
    "sns.violinplot(x=\"GDP per capita\", data=unhappy_2019, color=\"orange\")\n",
    "sns.violinplot(x=\"GDP per capita\", data=happy_2019)\n",
    "plt.show()"
   ]
  },
  {
   "cell_type": "code",
   "execution_count": null,
   "metadata": {},
   "outputs": [],
   "source": [
    "j, p = stats.jarque_bera(unhappy_2019[\"GDP per capita\"])"
   ]
  },
  {
   "cell_type": "code",
   "execution_count": null,
   "metadata": {},
   "outputs": [],
   "source": [
    "j"
   ]
  },
  {
   "cell_type": "code",
   "execution_count": null,
   "metadata": {
    "scrolled": true
   },
   "outputs": [],
   "source": [
    "p < 0.05"
   ]
  },
  {
   "cell_type": "markdown",
   "metadata": {},
   "source": [
    "The result of the Jarque-Bera test indicates that the distribution is not perectly normal. However, since the sample size is small and all of the other tests indicate normality, I will treat it as normal. "
   ]
  },
  {
   "cell_type": "markdown",
   "metadata": {},
   "source": [
    "Since both happy and less happy countries GDP per capita appear to be normal, I will perform a Students T-test to determine if there is variance between the groups. "
   ]
  },
  {
   "cell_type": "markdown",
   "metadata": {},
   "source": [
    "## Student T-Test "
   ]
  },
  {
   "cell_type": "markdown",
   "metadata": {},
   "source": [
    "The Students T-test is used to detect if the means are different between two groups. \n",
    "* $H_o$ : Both developing and developed countries have the same mean of GDP per capita\n",
    "* $H_a$ : The mean of GDP per capita differs between developing and developed countries "
   ]
  },
  {
   "cell_type": "code",
   "execution_count": null,
   "metadata": {},
   "outputs": [],
   "source": [
    "ttest_score, ttest_p = stats.ttest_ind(\n",
    "    happy_2019[\"GDP per capita\"], unhappy_2019[\"GDP per capita\"]\n",
    ")"
   ]
  },
  {
   "cell_type": "code",
   "execution_count": null,
   "metadata": {},
   "outputs": [],
   "source": [
    "ttest_score, ttest_p"
   ]
  },
  {
   "cell_type": "code",
   "execution_count": null,
   "metadata": {},
   "outputs": [],
   "source": [
    "ttest_p < 0.05"
   ]
  },
  {
   "cell_type": "markdown",
   "metadata": {},
   "source": [
    "The Students  T-test indicates that the null hypothesis can be rejected and that the distribution of GDP per capita differs between happy and less happy countries. "
   ]
  },
  {
   "cell_type": "markdown",
   "metadata": {},
   "source": [
    "## How significant is the difference in GDP per capita between the happiest and less happy countries?"
   ]
  },
  {
   "cell_type": "markdown",
   "metadata": {},
   "source": [
    "In order to determine the difference in means between happy and less happy countries' GDP per Capital I will calculate a confidence interval and then bootstrap to test that calculation."
   ]
  },
  {
   "cell_type": "code",
   "execution_count": null,
   "metadata": {},
   "outputs": [],
   "source": [
    "# Calculating low and high confidence intervals using function defined above\n",
    "ci_95(happy_2019[\"GDP per capita\"], unhappy_2019[\"GDP per capita\"])"
   ]
  },
  {
   "cell_type": "markdown",
   "metadata": {},
   "source": [
    "I can say with 95% confidence that there is a .45 and .63 difference in the GDP per Capita of happy and less happy countries, in favor of the more happy countries.  "
   ]
  },
  {
   "cell_type": "code",
   "execution_count": null,
   "metadata": {},
   "outputs": [],
   "source": [
    "# Testing confidence interval with a bootstrap\n",
    "\n",
    "mean_diffs = []\n",
    "for i in range(10000):\n",
    "    control_sample = happy_2019[\"GDP per capita\"].sample(frac=1.0, replace=True)\n",
    "    treatment_sample = unhappy_2019[\"GDP per capita\"].sample(frac=1.0, replace=True)\n",
    "    mean_diff = control_sample.mean() - treatment_sample.mean()\n",
    "    mean_diffs.append(mean_diff)"
   ]
  },
  {
   "cell_type": "code",
   "execution_count": null,
   "metadata": {},
   "outputs": [],
   "source": [
    "low_ci = np.percentile(mean_diffs, 2.5)\n",
    "high_ci = np.percentile(mean_diffs, 97.5)"
   ]
  },
  {
   "cell_type": "code",
   "execution_count": null,
   "metadata": {},
   "outputs": [],
   "source": [
    "low_ci, high_ci"
   ]
  },
  {
   "cell_type": "markdown",
   "metadata": {},
   "source": [
    "The sample bootstrapping confirms my calculations that there is, with 95% certainty, a .45 and .63 difference in the GDP per Capita of happy and less happy countries, in favor of the more happy countries."
   ]
  },
  {
   "cell_type": "markdown",
   "metadata": {},
   "source": [
    "# Has the happiness of the world changed from 2015 to 2019? If so, in what way and how much? "
   ]
  },
  {
   "cell_type": "markdown",
   "metadata": {},
   "source": [
    "## Investigate the DataFrame for 2015 data"
   ]
  },
  {
   "cell_type": "code",
   "execution_count": null,
   "metadata": {},
   "outputs": [],
   "source": [
    "# Use Pandas to import the 2015 Dataframe\n",
    "url_2015 = \"https://raw.githubusercontent.com/WoodyBurns44/Happiness_index_Analysis/main/2015.csv\"\n",
    "df_2015 = pd.read_csv(url_2015)"
   ]
  },
  {
   "cell_type": "code",
   "execution_count": null,
   "metadata": {},
   "outputs": [],
   "source": [
    "df_2015.head()"
   ]
  },
  {
   "cell_type": "code",
   "execution_count": null,
   "metadata": {},
   "outputs": [],
   "source": [
    "df_2015.info()"
   ]
  },
  {
   "cell_type": "code",
   "execution_count": null,
   "metadata": {},
   "outputs": [],
   "source": [
    "df_2015.describe()"
   ]
  },
  {
   "cell_type": "code",
   "execution_count": null,
   "metadata": {
    "scrolled": true
   },
   "outputs": [],
   "source": [
    "df_2015.columns"
   ]
  },
  {
   "cell_type": "markdown",
   "metadata": {},
   "source": [
    "## Isolate the Happiness columns for 2015 and 2019"
   ]
  },
  {
   "cell_type": "code",
   "execution_count": null,
   "metadata": {},
   "outputs": [],
   "source": [
    "# Create Dataframes for the 2015 and 2019 data\n",
    "happy15 = df_2015[\"Happiness Score\"]\n",
    "# happy15.head()\n",
    "happy15.index"
   ]
  },
  {
   "cell_type": "code",
   "execution_count": null,
   "metadata": {},
   "outputs": [],
   "source": [
    "happy19 = df_2019[\"Score\"]\n",
    "# happy19.head()\n",
    "happy19.index"
   ]
  },
  {
   "cell_type": "markdown",
   "metadata": {},
   "source": [
    "## Test for normality of happiness in 2015 and 2019"
   ]
  },
  {
   "cell_type": "markdown",
   "metadata": {},
   "source": [
    "### 2015"
   ]
  },
  {
   "cell_type": "code",
   "execution_count": null,
   "metadata": {},
   "outputs": [],
   "source": [
    "happy15.mean()"
   ]
  },
  {
   "cell_type": "code",
   "execution_count": null,
   "metadata": {},
   "outputs": [],
   "source": [
    "happy15.hist()\n",
    "plt.axvline(x=happy15.mean(), c=\"orange\")\n",
    "plt.axvline(x=happy15.median(), c=\"black\")\n",
    "plt.show()"
   ]
  },
  {
   "cell_type": "code",
   "execution_count": null,
   "metadata": {},
   "outputs": [],
   "source": [
    "qqplot(happy15, line=\"s\")\n",
    "plt.show()"
   ]
  },
  {
   "cell_type": "markdown",
   "metadata": {},
   "source": [
    "Use the Jarque-Bera test for normality\n",
    "* $H_o$ : The data comes from a normally distributed set. \n",
    "* $H_a$ : The data does not come form a normally distributed set. "
   ]
  },
  {
   "cell_type": "code",
   "execution_count": null,
   "metadata": {},
   "outputs": [],
   "source": [
    "j15, p15 = stats.jarque_bera(happy15)"
   ]
  },
  {
   "cell_type": "code",
   "execution_count": null,
   "metadata": {},
   "outputs": [],
   "source": [
    "j15"
   ]
  },
  {
   "cell_type": "code",
   "execution_count": null,
   "metadata": {},
   "outputs": [],
   "source": [
    "p15"
   ]
  },
  {
   "cell_type": "code",
   "execution_count": null,
   "metadata": {},
   "outputs": [],
   "source": [
    "p < 0.05"
   ]
  },
  {
   "cell_type": "markdown",
   "metadata": {},
   "source": [
    "Since we cannot reject the null, it can be assumed that the data comes from a normal distribution. "
   ]
  },
  {
   "cell_type": "markdown",
   "metadata": {},
   "source": [
    "### 2019"
   ]
  },
  {
   "cell_type": "code",
   "execution_count": null,
   "metadata": {},
   "outputs": [],
   "source": [
    "happy19.mean()"
   ]
  },
  {
   "cell_type": "code",
   "execution_count": null,
   "metadata": {},
   "outputs": [],
   "source": [
    "happy19.hist()\n",
    "plt.axvline(x=happy19.mean(), c=\"orange\")\n",
    "plt.axvline(x=happy19.median(), c=\"black\")\n",
    "plt.show()"
   ]
  },
  {
   "cell_type": "code",
   "execution_count": null,
   "metadata": {},
   "outputs": [],
   "source": [
    "qqplot(happy19, line=\"s\")\n",
    "plt.show()"
   ]
  },
  {
   "cell_type": "code",
   "execution_count": null,
   "metadata": {},
   "outputs": [],
   "source": [
    "j19, p19 = stats.jarque_bera(happy19)"
   ]
  },
  {
   "cell_type": "code",
   "execution_count": null,
   "metadata": {},
   "outputs": [],
   "source": [
    "j19"
   ]
  },
  {
   "cell_type": "code",
   "execution_count": null,
   "metadata": {},
   "outputs": [],
   "source": [
    "p19"
   ]
  },
  {
   "cell_type": "markdown",
   "metadata": {},
   "source": [
    "Since we cannot reject the null, it can be assumed that the data comes from a normal distribution."
   ]
  },
  {
   "cell_type": "markdown",
   "metadata": {},
   "source": [
    "## Perform an independent T-test"
   ]
  },
  {
   "cell_type": "code",
   "execution_count": null,
   "metadata": {
    "scrolled": true
   },
   "outputs": [],
   "source": [
    "t_15_to_19, p_15_to_19 = stats.ttest_ind(happy15, happy19)"
   ]
  },
  {
   "cell_type": "code",
   "execution_count": null,
   "metadata": {},
   "outputs": [],
   "source": [
    "t_15_to_19"
   ]
  },
  {
   "cell_type": "code",
   "execution_count": null,
   "metadata": {},
   "outputs": [],
   "source": [
    "p_15_to_19"
   ]
  },
  {
   "cell_type": "markdown",
   "metadata": {},
   "source": [
    "## Result"
   ]
  },
  {
   "cell_type": "markdown",
   "metadata": {},
   "source": [
    "There does not appear to be a significant diffance in the overall happiness of the world in 2019 as compared with 2015. "
   ]
  },
  {
   "cell_type": "markdown",
   "metadata": {},
   "source": [
    "# Which factors are most strongly correlated to the overall happiness score in 2019?"
   ]
  },
  {
   "cell_type": "markdown",
   "metadata": {},
   "source": [
    "Make a Spearman Correlatoin matrix to test for correlations between all numeric categories"
   ]
  },
  {
   "cell_type": "code",
   "execution_count": null,
   "metadata": {},
   "outputs": [],
   "source": [
    "spearman_correlations = df_2019.corr(method=\"spearman\")\n",
    "spearman_correlations"
   ]
  },
  {
   "cell_type": "markdown",
   "metadata": {},
   "source": [
    "Translate matrix into a heatmap for better visualization of the correlations. \n",
    "\n",
    "* code for heatmap inspired by Jesper Dramsch on Kaggle (https://www.kaggle.com/jesperdramsch/the-reason-we-re-happy). "
   ]
  },
  {
   "cell_type": "code",
   "execution_count": null,
   "metadata": {},
   "outputs": [],
   "source": [
    "fig, ax = plt.subplots(ncols=2, figsize=(24, 8))\n",
    "sns.heatmap(\n",
    "    spearman_correlations,\n",
    "    vmin=-1,\n",
    "    vmax=1,\n",
    "    ax=ax[0],\n",
    "    center=0,\n",
    "    cmap=\"viridis\",\n",
    "    annot=True,\n",
    ")\n",
    "sns.heatmap(\n",
    "    spearman_correlations,\n",
    "    vmin=-0.25,\n",
    "    vmax=1,\n",
    "    ax=ax[1],\n",
    "    center=0,\n",
    "    cmap=\"Accent\",\n",
    "    annot=True,\n",
    "    linecolor=\"white\",\n",
    ")"
   ]
  },
  {
   "cell_type": "markdown",
   "metadata": {},
   "source": [
    "The heat map gives us a lot of information, including:\n",
    "* Validates that there is a strong correlation between GDP per capita and happiness score\n",
    "* Shows that there is very strong correlation between the following fields and the happiness score:\n",
    "    * Social Support\n",
    "    * Healthy Life Expectancy \n",
    "    * Freedom to make Life choices"
   ]
  },
  {
   "cell_type": "markdown",
   "metadata": {},
   "source": [
    "# Appendix: Further Exploration "
   ]
  },
  {
   "cell_type": "code",
   "execution_count": null,
   "metadata": {},
   "outputs": [],
   "source": [
    "url_2016 = \"https://raw.githubusercontent.com/WoodyBurns44/Happiness_index_Analysis/main/2016.csv\"\n",
    "url_2017 = \"https://raw.githubusercontent.com/WoodyBurns44/Happiness_index_Analysis/main/2017.csv\"\n",
    "url_2018 = \"https://raw.githubusercontent.com/WoodyBurns44/Happiness_index_Analysis/main/2018.csv\""
   ]
  },
  {
   "cell_type": "code",
   "execution_count": null,
   "metadata": {},
   "outputs": [],
   "source": [
    "df_2016 = pd.read_csv(url_2016)\n",
    "df_2017 = pd.read_csv(url_2017)\n",
    "df_2018 = pd.read_csv(url_2018)"
   ]
  },
  {
   "cell_type": "code",
   "execution_count": null,
   "metadata": {},
   "outputs": [],
   "source": [
    "df_2016.head(1)"
   ]
  },
  {
   "cell_type": "code",
   "execution_count": null,
   "metadata": {},
   "outputs": [],
   "source": [
    "df_2015.head(1)"
   ]
  },
  {
   "cell_type": "code",
   "execution_count": null,
   "metadata": {},
   "outputs": [],
   "source": [
    "merge_columns = [\n",
    "    \"Country\",\n",
    "    \"GDP\",\n",
    "    \"Family\",\n",
    "    \"Life\",\n",
    "    \"Freedom\",\n",
    "    \"Generosity\",\n",
    "    \"Trust\",\n",
    "]\n",
    "\n",
    "\n",
    "def merge_fun(year_df, year):\n",
    "    df = pd.DataFrame()\n",
    "    add_columns = []\n",
    "    for i in merge_columns:\n",
    "        add_columns.extend(x for x in year_df.columns if i in x)\n",
    "    df[merge_columns] = year_df[add_columns]\n",
    "    df[\"Happiness Score\"] = year_df[[x for x in year_df.columns if \"Score\" in x]]\n",
    "    df[\"Year\"] = year\n",
    "    df = df.set_index([\"Country\", \"Year\"])\n",
    "    return df"
   ]
  },
  {
   "cell_type": "code",
   "execution_count": null,
   "metadata": {},
   "outputs": [],
   "source": []
  },
  {
   "cell_type": "code",
   "execution_count": null,
   "metadata": {
    "scrolled": true
   },
   "outputs": [],
   "source": [
    "df = merge_fun(df_2015, 2015)"
   ]
  },
  {
   "cell_type": "code",
   "execution_count": null,
   "metadata": {},
   "outputs": [],
   "source": [
    "df = df.append(merge_fun(df_2016, 2016), sort=False)"
   ]
  },
  {
   "cell_type": "code",
   "execution_count": null,
   "metadata": {},
   "outputs": [],
   "source": [
    "df = df.append(merge_fun(df_2017, 2017), sort=False)"
   ]
  },
  {
   "cell_type": "code",
   "execution_count": null,
   "metadata": {},
   "outputs": [],
   "source": [
    "df_2018 = df_2018.rename(\n",
    "    columns={\n",
    "        \"Healthy life expectancy\": \"Life\",\n",
    "        \"Perceptions of corruption\": \"Trust\",\n",
    "        \"Social support\": \"Family\",\n",
    "    },\n",
    ")"
   ]
  },
  {
   "cell_type": "code",
   "execution_count": null,
   "metadata": {},
   "outputs": [],
   "source": [
    "df = df.append(merge_fun(df_2018, 2018), sort=False)"
   ]
  },
  {
   "cell_type": "code",
   "execution_count": null,
   "metadata": {},
   "outputs": [],
   "source": [
    "df_2019 = df_2019.rename(\n",
    "    columns={\n",
    "        \"Social support\": \"Family\",\n",
    "        \"Healthy life expectancy\": \"Life\",\n",
    "        \"Perceptions of corruption\": \"Trust\",\n",
    "    }\n",
    ")"
   ]
  },
  {
   "cell_type": "code",
   "execution_count": null,
   "metadata": {},
   "outputs": [],
   "source": [
    "df = df.append(merge_fun(df_2019, 2019), sort=False)"
   ]
  },
  {
   "cell_type": "code",
   "execution_count": null,
   "metadata": {},
   "outputs": [],
   "source": [
    "df.head()"
   ]
  },
  {
   "cell_type": "code",
   "execution_count": null,
   "metadata": {},
   "outputs": [],
   "source": [
    "df.columns"
   ]
  },
  {
   "cell_type": "code",
   "execution_count": null,
   "metadata": {},
   "outputs": [],
   "source": [
    "df.index"
   ]
  },
  {
   "cell_type": "code",
   "execution_count": null,
   "metadata": {},
   "outputs": [],
   "source": [
    "df.head()"
   ]
  },
  {
   "cell_type": "code",
   "execution_count": null,
   "metadata": {},
   "outputs": [],
   "source": [
    "df = df.rename(columns={\"Happiness Score\": \"Happiness_Score\"})"
   ]
  },
  {
   "cell_type": "code",
   "execution_count": null,
   "metadata": {},
   "outputs": [],
   "source": [
    "df_test = df.reset_index()"
   ]
  },
  {
   "cell_type": "code",
   "execution_count": null,
   "metadata": {
    "scrolled": true
   },
   "outputs": [],
   "source": [
    "df_test.head()"
   ]
  },
  {
   "cell_type": "code",
   "execution_count": null,
   "metadata": {},
   "outputs": [],
   "source": [
    "df_test[\"Year\"].describe()"
   ]
  },
  {
   "cell_type": "code",
   "execution_count": null,
   "metadata": {},
   "outputs": [],
   "source": [
    "sns.set(rc={\"figure.figsize\": (11.7, 8.27)})\n",
    "happy_plot = sns.lineplot(\n",
    "    x=\"Year\",\n",
    "    y=\"Happiness_Score\",\n",
    "    hue=\"Country\",\n",
    "    legend=\"brief\",\n",
    "    data=df_test,\n",
    ")\n",
    "# happy_plot.legend(loc=10)"
   ]
  },
  {
   "cell_type": "code",
   "execution_count": null,
   "metadata": {},
   "outputs": [],
   "source": [
    "df_test.groupby(\"Year\").agg(\"count\")"
   ]
  }
 ],
 "metadata": {
  "kernelspec": {
   "display_name": "Python 3",
   "language": "python",
   "name": "python3"
  },
  "language_info": {
   "codemirror_mode": {
    "name": "ipython",
    "version": 3
   },
   "file_extension": ".py",
   "mimetype": "text/x-python",
   "name": "python",
   "nbconvert_exporter": "python",
   "pygments_lexer": "ipython3",
   "version": "3.8.3"
  },
  "toc": {
   "base_numbering": 1,
   "nav_menu": {},
   "number_sections": true,
   "sideBar": true,
   "skip_h1_title": false,
   "title_cell": "Table of Contents",
   "title_sidebar": "Contents",
   "toc_cell": false,
   "toc_position": {},
   "toc_section_display": true,
   "toc_window_display": true
  }
 },
 "nbformat": 4,
 "nbformat_minor": 4
}
